{
  "nbformat": 4,
  "nbformat_minor": 0,
  "metadata": {
    "colab": {
      "name": "Distribuição de Frequência.ipynb",
      "provenance": [],
      "mount_file_id": "19aQs-a2ycqjy_N3wV-NA_1UYZ_mF82xm",
      "authorship_tag": "ABX9TyOcNRMDMz4+Qa2D0qVwYJtv",
      "include_colab_link": true
    },
    "kernelspec": {
      "name": "python3",
      "display_name": "Python 3"
    }
  },
  "cells": [
    {
      "cell_type": "markdown",
      "metadata": {
        "id": "view-in-github",
        "colab_type": "text"
      },
      "source": [
        "<a href=\"https://colab.research.google.com/github/kaduoliveira83/estatistica_para_datascience/blob/main/Distribui%C3%A7%C3%A3o_de_Frequ%C3%AAncia.ipynb\" target=\"_parent\"><img src=\"https://colab.research.google.com/assets/colab-badge.svg\" alt=\"Open In Colab\"/></a>"
      ]
    },
    {
      "cell_type": "markdown",
      "metadata": {
        "id": "HWnFatectSL9"
      },
      "source": [
        "# Distribuição de Frequência "
      ]
    },
    {
      "cell_type": "code",
      "metadata": {
        "id": "YCJC45FdtNfL"
      },
      "source": [
        "import numpy as np \r\n",
        "import matplotlib.pyplot as plt\r\n",
        "import pandas as pd\r\n",
        "import seaborn as sns"
      ],
      "execution_count": 2,
      "outputs": []
    },
    {
      "cell_type": "code",
      "metadata": {
        "id": "8HUvM4dVug1V"
      },
      "source": [
        "dados = np.array([160, 165, 167, 164, 160, 166, 160, 161, 150, 152, 173, 160, 155,\r\n",
        "                  164, 168, 162, 161, 168, 163, 156, 155, 169, 151, 170, 164,\r\n",
        "                  155, 152, 163, 160, 155, 157, 156, 158, 158, 161, 154, 161, 156, 172, 153])"
      ],
      "execution_count": 3,
      "outputs": []
    },
    {
      "cell_type": "code",
      "metadata": {
        "id": "3Ht0VsUVuknd"
      },
      "source": [
        "dados = np.sort(dados)"
      ],
      "execution_count": 4,
      "outputs": []
    },
    {
      "cell_type": "code",
      "metadata": {
        "colab": {
          "base_uri": "https://localhost:8080/"
        },
        "id": "UMHCXDUYupiY",
        "outputId": "3b723b31-e512-49f4-8b2d-b192791ad883"
      },
      "source": [
        "dados"
      ],
      "execution_count": 5,
      "outputs": [
        {
          "output_type": "execute_result",
          "data": {
            "text/plain": [
              "array([150, 151, 152, 152, 153, 154, 155, 155, 155, 155, 156, 156, 156,\n",
              "       157, 158, 158, 160, 160, 160, 160, 160, 161, 161, 161, 161, 162,\n",
              "       163, 163, 164, 164, 164, 165, 166, 167, 168, 168, 169, 170, 172,\n",
              "       173])"
            ]
          },
          "metadata": {
            "tags": []
          },
          "execution_count": 5
        }
      ]
    },
    {
      "cell_type": "code",
      "metadata": {
        "colab": {
          "base_uri": "https://localhost:8080/"
        },
        "id": "fWW7MLCWuqXn",
        "outputId": "bb4f2c99-a9fa-4373-cf6f-0e1d26d3098a"
      },
      "source": [
        "minimo = dados.min()\r\n",
        "minimo"
      ],
      "execution_count": 6,
      "outputs": [
        {
          "output_type": "execute_result",
          "data": {
            "text/plain": [
              "150"
            ]
          },
          "metadata": {
            "tags": []
          },
          "execution_count": 6
        }
      ]
    },
    {
      "cell_type": "code",
      "metadata": {
        "colab": {
          "base_uri": "https://localhost:8080/"
        },
        "id": "gmVIvAR-uxIf",
        "outputId": "e2a26935-dbbb-4993-c806-3977672a282b"
      },
      "source": [
        "maximo = dados.max()\r\n",
        "maximo"
      ],
      "execution_count": 7,
      "outputs": [
        {
          "output_type": "execute_result",
          "data": {
            "text/plain": [
              "173"
            ]
          },
          "metadata": {
            "tags": []
          },
          "execution_count": 7
        }
      ]
    },
    {
      "cell_type": "code",
      "metadata": {
        "colab": {
          "base_uri": "https://localhost:8080/"
        },
        "id": "Y8TkgxeXu4X_",
        "outputId": "2a9f53db-91e1-47a0-b6f7-03a1670b369c"
      },
      "source": [
        "np.unique (dados, return_counts= True)"
      ],
      "execution_count": 8,
      "outputs": [
        {
          "output_type": "execute_result",
          "data": {
            "text/plain": [
              "(array([150, 151, 152, 153, 154, 155, 156, 157, 158, 160, 161, 162, 163,\n",
              "        164, 165, 166, 167, 168, 169, 170, 172, 173]),\n",
              " array([1, 1, 2, 1, 1, 4, 3, 1, 2, 5, 4, 1, 2, 3, 1, 1, 1, 2, 1, 1, 1, 1]))"
            ]
          },
          "metadata": {
            "tags": []
          },
          "execution_count": 8
        }
      ]
    },
    {
      "cell_type": "code",
      "metadata": {
        "colab": {
          "base_uri": "https://localhost:8080/",
          "height": 282
        },
        "id": "-vQjiCBAvX1m",
        "outputId": "5b48523a-d629-4bb9-e236-19dd474fbf99"
      },
      "source": [
        "plt.bar (dados, dados)"
      ],
      "execution_count": 9,
      "outputs": [
        {
          "output_type": "execute_result",
          "data": {
            "text/plain": [
              "<BarContainer object of 40 artists>"
            ]
          },
          "metadata": {
            "tags": []
          },
          "execution_count": 9
        },
        {
          "output_type": "display_data",
          "data": {
            "image/png": "[encoded data removed]",
            "text/plain": [
              "<Figure size 432x288 with 1 Axes>"
            ]
          },
          "metadata": {
            "tags": [],
            "needs_background": "light"
          }
        }
      ]
    },
    {
      "cell_type": "markdown",
      "metadata": {
        "id": "ugvtGW98yOWB"
      },
      "source": [
        "# números de classe\r\n",
        "\r\n",
        "i = 1 + 3.3 log n"
      ]
    },
    {
      "cell_type": "code",
      "metadata": {
        "colab": {
          "base_uri": "https://localhost:8080/"
        },
        "id": "c_bxmLH3yN9D",
        "outputId": "3b88db06-fee8-4b5c-c67e-ac547ed1802b"
      },
      "source": [
        "n = len (dados)\r\n",
        "n"
      ],
      "execution_count": 10,
      "outputs": [
        {
          "output_type": "execute_result",
          "data": {
            "text/plain": [
              "40"
            ]
          },
          "metadata": {
            "tags": []
          },
          "execution_count": 10
        }
      ]
    },
    {
      "cell_type": "code",
      "metadata": {
        "colab": {
          "base_uri": "https://localhost:8080/"
        },
        "id": "-RjD1qYWvkhO",
        "outputId": "2a5e2fa7-1313-4c72-b379-35f15201a52f"
      },
      "source": [
        "i = 1 + 3.3 * np.log10(n)\r\n",
        "print (i)"
      ],
      "execution_count": 11,
      "outputs": [
        {
          "output_type": "stream",
          "text": [
            "6.286797971382276\n"
          ],
          "name": "stdout"
        }
      ]
    },
    {
      "cell_type": "code",
      "metadata": {
        "colab": {
          "base_uri": "https://localhost:8080/"
        },
        "id": "Cec0sGVWzHgm",
        "outputId": "9853cc0f-99ab-4658-8fab-a12772743b5d"
      },
      "source": [
        "i = round (i)\r\n",
        "i"
      ],
      "execution_count": 12,
      "outputs": [
        {
          "output_type": "execute_result",
          "data": {
            "text/plain": [
              "6"
            ]
          },
          "metadata": {
            "tags": []
          },
          "execution_count": 12
        }
      ]
    },
    {
      "cell_type": "code",
      "metadata": {
        "id": "IYlfmHHozRum"
      },
      "source": [
        ""
      ],
      "execution_count": null,
      "outputs": []
    },
    {
      "cell_type": "markdown",
      "metadata": {
        "id": "Iy_yP7nKzWti"
      },
      "source": [
        "# Amplitude do intervalo\r\n",
        "\r\n",
        "h = AA / i\r\n",
        "\r\n",
        "AA = Xmax - Xmin"
      ]
    },
    {
      "cell_type": "code",
      "metadata": {
        "colab": {
          "base_uri": "https://localhost:8080/"
        },
        "id": "G44yQDTfze17",
        "outputId": "ac379d1c-155a-4fc8-de86-4756670bf5b0"
      },
      "source": [
        "AA = maximo - minimo\r\n",
        "AA"
      ],
      "execution_count": 13,
      "outputs": [
        {
          "output_type": "execute_result",
          "data": {
            "text/plain": [
              "23"
            ]
          },
          "metadata": {
            "tags": []
          },
          "execution_count": 13
        }
      ]
    },
    {
      "cell_type": "code",
      "metadata": {
        "colab": {
          "base_uri": "https://localhost:8080/"
        },
        "id": "BQLuQ8XMzkNG",
        "outputId": "2fc5e783-4aae-48bf-b1c8-5fc7d9502cdc"
      },
      "source": [
        "h = AA / i\r\n",
        "h"
      ],
      "execution_count": 14,
      "outputs": [
        {
          "output_type": "execute_result",
          "data": {
            "text/plain": [
              "3.8333333333333335"
            ]
          },
          "metadata": {
            "tags": []
          },
          "execution_count": 14
        }
      ]
    },
    {
      "cell_type": "code",
      "metadata": {
        "colab": {
          "base_uri": "https://localhost:8080/"
        },
        "id": "PIZRawt4zqml",
        "outputId": "615d9bb3-206e-4519-fe6b-da08a61dbc68"
      },
      "source": [
        "import math\r\n",
        "h = math.ceil(h)\r\n",
        "h"
      ],
      "execution_count": 15,
      "outputs": [
        {
          "output_type": "execute_result",
          "data": {
            "text/plain": [
              "4"
            ]
          },
          "metadata": {
            "tags": []
          },
          "execution_count": 15
        }
      ]
    },
    {
      "cell_type": "markdown",
      "metadata": {
        "id": "pZF1BBbQ05JB"
      },
      "source": [
        "# Construção da distribuição de frequência"
      ]
    },
    {
      "cell_type": "code",
      "metadata": {
        "colab": {
          "base_uri": "https://localhost:8080/"
        },
        "id": "OAG1QxOe07Nx",
        "outputId": "ff8f80ec-aefe-4e79-fc80-2fff32d08a8a"
      },
      "source": [
        "intervalos = np.arange (minimo, maximo + 2, step = h)\r\n",
        "intervalos"
      ],
      "execution_count": 16,
      "outputs": [
        {
          "output_type": "execute_result",
          "data": {
            "text/plain": [
              "array([150, 154, 158, 162, 166, 170, 174])"
            ]
          },
          "metadata": {
            "tags": []
          },
          "execution_count": 16
        }
      ]
    },
    {
      "cell_type": "code",
      "metadata": {
        "id": "uT70Ko-a2V1H"
      },
      "source": [
        "intervalo1, intervalo2, intervalo3, intervalo4, intervalo5, intervalo6 = 0,0,0,0,0,0\n",
        "for i in range(n):\n",
        "  if dados[i] >= intervalos[0] and dados[i] < intervalos[1]:\n",
        "    intervalo1 += 1\n",
        "  elif dados[i] >= intervalos[1] and dados[i] < intervalos[2]:\n",
        "    intervalo2 += 1\n",
        "  elif dados[i] >= intervalos[2] and dados[i] < intervalos[3]:\n",
        "    intervalo3 += 1\n",
        "  elif dados[i] >= intervalos[3] and dados[i] < intervalos[4]:\n",
        "    intervalo4 += 1\n",
        "  elif dados[i] >= intervalos[4] and dados[i] < intervalos[5]:\n",
        "    intervalo5 += 1\n",
        "  elif dados[i] >= intervalos[5] and dados[i] < intervalos[6]:\n",
        "    intervalo6 += 1"
      ],
      "execution_count": 17,
      "outputs": []
    },
    {
      "cell_type": "code",
      "metadata": {
        "colab": {
          "base_uri": "https://localhost:8080/"
        },
        "id": "6HyUEz242t38",
        "outputId": "a84d1115-2636-4c5f-9679-4abf62c28e10"
      },
      "source": [
        "lista_intervalos = []\r\n",
        "lista_intervalos.append(intervalo1)\r\n",
        "lista_intervalos.append(intervalo2)\r\n",
        "lista_intervalos.append(intervalo3)\r\n",
        "lista_intervalos.append(intervalo4)\r\n",
        "lista_intervalos.append(intervalo5)\r\n",
        "lista_intervalos.append(intervalo6)\r\n",
        "lista_intervalos"
      ],
      "execution_count": 18,
      "outputs": [
        {
          "output_type": "execute_result",
          "data": {
            "text/plain": [
              "[5, 9, 11, 7, 5, 3]"
            ]
          },
          "metadata": {
            "tags": []
          },
          "execution_count": 18
        }
      ]
    },
    {
      "cell_type": "code",
      "metadata": {
        "id": "HAjaqq7w253c"
      },
      "source": [
        "lista_classes = []\r\n",
        "for i in range(len(lista_intervalos)):\r\n",
        "  lista_classes.append(str(intervalos[i]) + '-' + str(intervalos[i + 1]))"
      ],
      "execution_count": 19,
      "outputs": []
    },
    {
      "cell_type": "code",
      "metadata": {
        "colab": {
          "base_uri": "https://localhost:8080/"
        },
        "id": "usOFqC7Q2_SD",
        "outputId": "24dc74ba-6a35-4d84-d794-c5d0e12224fe"
      },
      "source": [
        "lista_classes"
      ],
      "execution_count": 20,
      "outputs": [
        {
          "output_type": "execute_result",
          "data": {
            "text/plain": [
              "['150-154', '154-158', '158-162', '162-166', '166-170', '170-174']"
            ]
          },
          "metadata": {
            "tags": []
          },
          "execution_count": 20
        }
      ]
    },
    {
      "cell_type": "code",
      "metadata": {
        "colab": {
          "base_uri": "https://localhost:8080/",
          "height": 295
        },
        "id": "yEc4Hqvh3AVO",
        "outputId": "7029d95c-12bb-4947-ea3b-5ae74eb01435"
      },
      "source": [
        "plt.bar(lista_classes, lista_intervalos)\r\n",
        "plt.title('Distribuição de frequência - histograma')\r\n",
        "plt.xlabel('intervalos')\r\n",
        "plt.ylabel('valores');"
      ],
      "execution_count": 21,
      "outputs": [
        {
          "output_type": "display_data",
          "data": {
            "image/png": "[encoded data removed]",
            "text/plain": [
              "<Figure size 432x288 with 1 Axes>"
            ]
          },
          "metadata": {
            "tags": [],
            "needs_background": "light"
          }
        }
      ]
    },
    {
      "cell_type": "markdown",
      "metadata": {
        "id": "gEG9FAgW7oVs"
      },
      "source": [
        "# Distribuição de frequência e histograma com numpy e matplotlib"
      ]
    },
    {
      "cell_type": "code",
      "metadata": {
        "id": "4ZryDOLT6m5U"
      },
      "source": [
        "dados = np.array([160, 165, 167, 164, 160, 166, 160, 161, 150, 152, 173, 160, 155,\r\n",
        "                  164, 168, 162, 161, 168, 163, 156, 155, 169, 151, 170, 164,\r\n",
        "                  155, 152, 163, 160, 155, 157, 156, 158, 158, 161, 154, 161, 156, 172, 153])"
      ],
      "execution_count": 25,
      "outputs": []
    },
    {
      "cell_type": "code",
      "metadata": {
        "id": "_oBoIKG46wvI"
      },
      "source": [
        "frequencia, classes = np.histogram(dados)"
      ],
      "execution_count": 26,
      "outputs": []
    },
    {
      "cell_type": "code",
      "metadata": {
        "colab": {
          "base_uri": "https://localhost:8080/"
        },
        "id": "q-bIwAMU635t",
        "outputId": "ed06f066-0cd8-487f-8578-73d2a2aa21a9"
      },
      "source": [
        "frequencia, classes, len (dados)"
      ],
      "execution_count": 27,
      "outputs": [
        {
          "output_type": "execute_result",
          "data": {
            "text/plain": [
              "(array([4, 2, 7, 3, 9, 3, 5, 3, 2, 2]),\n",
              " array([150. , 152.3, 154.6, 156.9, 159.2, 161.5, 163.8, 166.1, 168.4,\n",
              "        170.7, 173. ]),\n",
              " 40)"
            ]
          },
          "metadata": {
            "tags": []
          },
          "execution_count": 27
        }
      ]
    },
    {
      "cell_type": "code",
      "metadata": {
        "colab": {
          "base_uri": "https://localhost:8080/",
          "height": 265
        },
        "id": "HxUC19r06_PN",
        "outputId": "ccce3eb8-b43e-4b25-b81d-02cec327ad58"
      },
      "source": [
        "plt.hist (dados, bins= classes);"
      ],
      "execution_count": 28,
      "outputs": [
        {
          "output_type": "display_data",
          "data": {
            "image/png": "[encoded data removed]",
            "text/plain": [
              "<Figure size 432x288 with 1 Axes>"
            ]
          },
          "metadata": {
            "tags": [],
            "needs_background": "light"
          }
        }
      ]
    },
    {
      "cell_type": "code",
      "metadata": {
        "colab": {
          "base_uri": "https://localhost:8080/"
        },
        "id": "9SlSVu8x7H8u",
        "outputId": "207758ed-1e91-4511-e1fa-6489e3aa2a30"
      },
      "source": [
        "frequencia, classes = np.histogram(dados, bins= 'sturges')\r\n",
        "frequencia, classes"
      ],
      "execution_count": 29,
      "outputs": [
        {
          "output_type": "execute_result",
          "data": {
            "text/plain": [
              "(array([ 5,  8,  3, 12,  5,  4,  3]),\n",
              " array([150.        , 153.28571429, 156.57142857, 159.85714286,\n",
              "        163.14285714, 166.42857143, 169.71428571, 173.        ]))"
            ]
          },
          "metadata": {
            "tags": []
          },
          "execution_count": 29
        }
      ]
    },
    {
      "cell_type": "code",
      "metadata": {
        "colab": {
          "base_uri": "https://localhost:8080/",
          "height": 265
        },
        "id": "jULxePfC9Kim",
        "outputId": "0c8df8cb-7e03-41a5-ce3d-9815719d234c"
      },
      "source": [
        "plt.hist(dados,classes);"
      ],
      "execution_count": 30,
      "outputs": [
        {
          "output_type": "display_data",
          "data": {
            "image/png": "[encoded data removed]",
            "text/plain": [
              "<Figure size 432x288 with 1 Axes>"
            ]
          },
          "metadata": {
            "tags": [],
            "needs_background": "light"
          }
        }
      ]
    },
    {
      "cell_type": "markdown",
      "metadata": {
        "id": "XCHgrwWQ9Y5W"
      },
      "source": [
        "# Distribuição de frequência e histograma com pandas e seaborn "
      ]
    },
    {
      "cell_type": "code",
      "metadata": {
        "colab": {
          "base_uri": "https://localhost:8080/"
        },
        "id": "WUTJSlJx56eB",
        "outputId": "7dcb1933-e3a0-425f-ae57-80efb7a9034c"
      },
      "source": [
        "type (dados)"
      ],
      "execution_count": 31,
      "outputs": [
        {
          "output_type": "execute_result",
          "data": {
            "text/plain": [
              "numpy.ndarray"
            ]
          },
          "metadata": {
            "tags": []
          },
          "execution_count": 31
        }
      ]
    },
    {
      "cell_type": "code",
      "metadata": {
        "id": "ewBpXyPQ6r9P"
      },
      "source": [
        "dataset = pd.DataFrame({'dados': dados})"
      ],
      "execution_count": 36,
      "outputs": []
    },
    {
      "cell_type": "code",
      "metadata": {
        "colab": {
          "base_uri": "https://localhost:8080/",
          "height": 204
        },
        "id": "3sdJ2Xdr7E9l",
        "outputId": "077c44ab-5bf5-46c5-f86b-25e01e4097a7"
      },
      "source": [
        "dataset.head()"
      ],
      "execution_count": 37,
      "outputs": [
        {
          "output_type": "execute_result",
          "data": {
            "text/html": [
              "<div>\n",
              "<style scoped>\n",
              "    .dataframe tbody tr th:only-of-type {\n",
              "        vertical-align: middle;\n",
              "    }\n",
              "\n",
              "    .dataframe tbody tr th {\n",
              "        vertical-align: top;\n",
              "    }\n",
              "\n",
              "    .dataframe thead th {\n",
              "        text-align: right;\n",
              "    }\n",
              "</style>\n",
              "<table border=\"1\" class=\"dataframe\">\n",
              "  <thead>\n",
              "    <tr style=\"text-align: right;\">\n",
              "      <th></th>\n",
              "      <th>dados</th>\n",
              "    </tr>\n",
              "  </thead>\n",
              "  <tbody>\n",
              "    <tr>\n",
              "      <th>0</th>\n",
              "      <td>160</td>\n",
              "    </tr>\n",
              "    <tr>\n",
              "      <th>1</th>\n",
              "      <td>165</td>\n",
              "    </tr>\n",
              "    <tr>\n",
              "      <th>2</th>\n",
              "      <td>167</td>\n",
              "    </tr>\n",
              "    <tr>\n",
              "      <th>3</th>\n",
              "      <td>164</td>\n",
              "    </tr>\n",
              "    <tr>\n",
              "      <th>4</th>\n",
              "      <td>160</td>\n",
              "    </tr>\n",
              "  </tbody>\n",
              "</table>\n",
              "</div>"
            ],
            "text/plain": [
              "   dados\n",
              "0    160\n",
              "1    165\n",
              "2    167\n",
              "3    164\n",
              "4    160"
            ]
          },
          "metadata": {
            "tags": []
          },
          "execution_count": 37
        }
      ]
    },
    {
      "cell_type": "code",
      "metadata": {
        "colab": {
          "base_uri": "https://localhost:8080/",
          "height": 265
        },
        "id": "qJFabTAQ7IO8",
        "outputId": "c00e74e4-3097-47d5-862e-9ea1a788f15b"
      },
      "source": [
        "dataset.plot.hist();"
      ],
      "execution_count": 39,
      "outputs": [
        {
          "output_type": "display_data",
          "data": {
            "image/png": "[encoded data removed]",
            "text/plain": [
              "<Figure size 432x288 with 1 Axes>"
            ]
          },
          "metadata": {
            "tags": [],
            "needs_background": "light"
          }
        }
      ]
    },
    {
      "cell_type": "code",
      "metadata": {
        "colab": {
          "base_uri": "https://localhost:8080/",
          "height": 319
        },
        "id": "BGdDLG7a7QXM",
        "outputId": "7fbd2880-a46c-49a0-af01-ecdc3381face"
      },
      "source": [
        "sns.distplot (dados, hist = True, kde = True);"
      ],
      "execution_count": 44,
      "outputs": [
        {
          "output_type": "stream",
          "text": [
            "/usr/local/lib/python3.6/dist-packages/seaborn/distributions.py:2557: FutureWarning: `distplot` is a deprecated function and will be removed in a future version. Please adapt your code to use either `displot` (a figure-level function with similar flexibility) or `histplot` (an axes-level function for histograms).\n",
            "  warnings.warn(msg, FutureWarning)\n"
          ],
          "name": "stderr"
        },
        {
          "output_type": "display_data",
          "data": {
            "image/png": "[encoded data removed]",
            "text/plain": [
              "<Figure size 432x288 with 1 Axes>"
            ]
          },
          "metadata": {
            "tags": [],
            "needs_background": "light"
          }
        }
      ]
    },
    {
      "cell_type": "markdown",
      "metadata": {
        "id": "oci4zExrDiCp"
      },
      "source": [
        "# Regras de associação"
      ]
    },
    {
      "cell_type": "code",
      "metadata": {
        "id": "gKjjbD9JD_qk"
      },
      "source": [
        "dataset = pd.read_csv ('/content/drive/MyDrive/AULAS IA/census.csv')\r\n",
        "import pandas as pd\r\n"
      ],
      "execution_count": 47,
      "outputs": []
    },
    {
      "cell_type": "code",
      "metadata": {
        "colab": {
          "base_uri": "https://localhost:8080/",
          "height": 306
        },
        "id": "i4C_KODx7r8c",
        "outputId": "e7c6b061-b66d-4918-d24d-45b1d36071ae"
      },
      "source": [
        "dataset.head()"
      ],
      "execution_count": 48,
      "outputs": [
        {
          "output_type": "execute_result",
          "data": {
            "text/html": [
              "<div>\n",
              "<style scoped>\n",
              "    .dataframe tbody tr th:only-of-type {\n",
              "        vertical-align: middle;\n",
              "    }\n",
              "\n",
              "    .dataframe tbody tr th {\n",
              "        vertical-align: top;\n",
              "    }\n",
              "\n",
              "    .dataframe thead th {\n",
              "        text-align: right;\n",
              "    }\n",
              "</style>\n",
              "<table border=\"1\" class=\"dataframe\">\n",
              "  <thead>\n",
              "    <tr style=\"text-align: right;\">\n",
              "      <th></th>\n",
              "      <th>age</th>\n",
              "      <th>workclass</th>\n",
              "      <th>final-weight</th>\n",
              "      <th>education</th>\n",
              "      <th>education-num</th>\n",
              "      <th>marital-status</th>\n",
              "      <th>occupation</th>\n",
              "      <th>relationship</th>\n",
              "      <th>race</th>\n",
              "      <th>sex</th>\n",
              "      <th>capital-gain</th>\n",
              "      <th>capital-loos</th>\n",
              "      <th>hour-per-week</th>\n",
              "      <th>native-country</th>\n",
              "      <th>income</th>\n",
              "    </tr>\n",
              "  </thead>\n",
              "  <tbody>\n",
              "    <tr>\n",
              "      <th>0</th>\n",
              "      <td>39</td>\n",
              "      <td>State-gov</td>\n",
              "      <td>77516</td>\n",
              "      <td>Bachelors</td>\n",
              "      <td>13</td>\n",
              "      <td>Never-married</td>\n",
              "      <td>Adm-clerical</td>\n",
              "      <td>Not-in-family</td>\n",
              "      <td>White</td>\n",
              "      <td>Male</td>\n",
              "      <td>2174</td>\n",
              "      <td>0</td>\n",
              "      <td>40</td>\n",
              "      <td>United-States</td>\n",
              "      <td>&lt;=50K</td>\n",
              "    </tr>\n",
              "    <tr>\n",
              "      <th>1</th>\n",
              "      <td>50</td>\n",
              "      <td>Self-emp-not-inc</td>\n",
              "      <td>83311</td>\n",
              "      <td>Bachelors</td>\n",
              "      <td>13</td>\n",
              "      <td>Married-civ-spouse</td>\n",
              "      <td>Exec-managerial</td>\n",
              "      <td>Husband</td>\n",
              "      <td>White</td>\n",
              "      <td>Male</td>\n",
              "      <td>0</td>\n",
              "      <td>0</td>\n",
              "      <td>13</td>\n",
              "      <td>United-States</td>\n",
              "      <td>&lt;=50K</td>\n",
              "    </tr>\n",
              "    <tr>\n",
              "      <th>2</th>\n",
              "      <td>38</td>\n",
              "      <td>Private</td>\n",
              "      <td>215646</td>\n",
              "      <td>HS-grad</td>\n",
              "      <td>9</td>\n",
              "      <td>Divorced</td>\n",
              "      <td>Handlers-cleaners</td>\n",
              "      <td>Not-in-family</td>\n",
              "      <td>White</td>\n",
              "      <td>Male</td>\n",
              "      <td>0</td>\n",
              "      <td>0</td>\n",
              "      <td>40</td>\n",
              "      <td>United-States</td>\n",
              "      <td>&lt;=50K</td>\n",
              "    </tr>\n",
              "    <tr>\n",
              "      <th>3</th>\n",
              "      <td>53</td>\n",
              "      <td>Private</td>\n",
              "      <td>234721</td>\n",
              "      <td>11th</td>\n",
              "      <td>7</td>\n",
              "      <td>Married-civ-spouse</td>\n",
              "      <td>Handlers-cleaners</td>\n",
              "      <td>Husband</td>\n",
              "      <td>Black</td>\n",
              "      <td>Male</td>\n",
              "      <td>0</td>\n",
              "      <td>0</td>\n",
              "      <td>40</td>\n",
              "      <td>United-States</td>\n",
              "      <td>&lt;=50K</td>\n",
              "    </tr>\n",
              "    <tr>\n",
              "      <th>4</th>\n",
              "      <td>28</td>\n",
              "      <td>Private</td>\n",
              "      <td>338409</td>\n",
              "      <td>Bachelors</td>\n",
              "      <td>13</td>\n",
              "      <td>Married-civ-spouse</td>\n",
              "      <td>Prof-specialty</td>\n",
              "      <td>Wife</td>\n",
              "      <td>Black</td>\n",
              "      <td>Female</td>\n",
              "      <td>0</td>\n",
              "      <td>0</td>\n",
              "      <td>40</td>\n",
              "      <td>Cuba</td>\n",
              "      <td>&lt;=50K</td>\n",
              "    </tr>\n",
              "  </tbody>\n",
              "</table>\n",
              "</div>"
            ],
            "text/plain": [
              "   age          workclass  final-weight  ... hour-per-week  native-country  income\n",
              "0   39          State-gov         77516  ...            40   United-States   <=50K\n",
              "1   50   Self-emp-not-inc         83311  ...            13   United-States   <=50K\n",
              "2   38            Private        215646  ...            40   United-States   <=50K\n",
              "3   53            Private        234721  ...            40   United-States   <=50K\n",
              "4   28            Private        338409  ...            40            Cuba   <=50K\n",
              "\n",
              "[5 rows x 15 columns]"
            ]
          },
          "metadata": {
            "tags": []
          },
          "execution_count": 48
        }
      ]
    },
    {
      "cell_type": "code",
      "metadata": {
        "id": "JMxik6NiFVLs"
      },
      "source": [
        "dataset['age'] = pd.cut(dataset['age'], bins=[0, 17, 25, 40, 60, 90], \r\n",
        "                        labels=['Faixa1', \"Faixa2\", \"Faixa3\", \"Faixa4\", \"Faixa5\"])"
      ],
      "execution_count": 61,
      "outputs": []
    },
    {
      "cell_type": "code",
      "metadata": {
        "id": "me7g8m-eBMa1"
      },
      "source": [
        "dataset_apriori = dataset[['age', 'workclass', 'education', 'marital-status', 'relationship', 'occupation',\n",
        "                            'sex', 'native-country', 'income']]"
      ],
      "execution_count": 62,
      "outputs": []
    },
    {
      "cell_type": "code",
      "metadata": {
        "colab": {
          "base_uri": "https://localhost:8080/",
          "height": 204
        },
        "id": "HXu30Yv8ExfA",
        "outputId": "cea97d28-2728-40d2-bb20-57c62a7fa337"
      },
      "source": [
        "dataset_apriori.head()"
      ],
      "execution_count": 63,
      "outputs": [
        {
          "output_type": "execute_result",
          "data": {
            "text/html": [
              "<div>\n",
              "<style scoped>\n",
              "    .dataframe tbody tr th:only-of-type {\n",
              "        vertical-align: middle;\n",
              "    }\n",
              "\n",
              "    .dataframe tbody tr th {\n",
              "        vertical-align: top;\n",
              "    }\n",
              "\n",
              "    .dataframe thead th {\n",
              "        text-align: right;\n",
              "    }\n",
              "</style>\n",
              "<table border=\"1\" class=\"dataframe\">\n",
              "  <thead>\n",
              "    <tr style=\"text-align: right;\">\n",
              "      <th></th>\n",
              "      <th>age</th>\n",
              "      <th>workclass</th>\n",
              "      <th>education</th>\n",
              "      <th>marital-status</th>\n",
              "      <th>relationship</th>\n",
              "      <th>occupation</th>\n",
              "      <th>sex</th>\n",
              "      <th>native-country</th>\n",
              "      <th>income</th>\n",
              "    </tr>\n",
              "  </thead>\n",
              "  <tbody>\n",
              "    <tr>\n",
              "      <th>0</th>\n",
              "      <td>Faixa3</td>\n",
              "      <td>State-gov</td>\n",
              "      <td>Bachelors</td>\n",
              "      <td>Never-married</td>\n",
              "      <td>Not-in-family</td>\n",
              "      <td>Adm-clerical</td>\n",
              "      <td>Male</td>\n",
              "      <td>United-States</td>\n",
              "      <td>&lt;=50K</td>\n",
              "    </tr>\n",
              "    <tr>\n",
              "      <th>1</th>\n",
              "      <td>Faixa4</td>\n",
              "      <td>Self-emp-not-inc</td>\n",
              "      <td>Bachelors</td>\n",
              "      <td>Married-civ-spouse</td>\n",
              "      <td>Husband</td>\n",
              "      <td>Exec-managerial</td>\n",
              "      <td>Male</td>\n",
              "      <td>United-States</td>\n",
              "      <td>&lt;=50K</td>\n",
              "    </tr>\n",
              "    <tr>\n",
              "      <th>2</th>\n",
              "      <td>Faixa3</td>\n",
              "      <td>Private</td>\n",
              "      <td>HS-grad</td>\n",
              "      <td>Divorced</td>\n",
              "      <td>Not-in-family</td>\n",
              "      <td>Handlers-cleaners</td>\n",
              "      <td>Male</td>\n",
              "      <td>United-States</td>\n",
              "      <td>&lt;=50K</td>\n",
              "    </tr>\n",
              "    <tr>\n",
              "      <th>3</th>\n",
              "      <td>Faixa4</td>\n",
              "      <td>Private</td>\n",
              "      <td>11th</td>\n",
              "      <td>Married-civ-spouse</td>\n",
              "      <td>Husband</td>\n",
              "      <td>Handlers-cleaners</td>\n",
              "      <td>Male</td>\n",
              "      <td>United-States</td>\n",
              "      <td>&lt;=50K</td>\n",
              "    </tr>\n",
              "    <tr>\n",
              "      <th>4</th>\n",
              "      <td>Faixa3</td>\n",
              "      <td>Private</td>\n",
              "      <td>Bachelors</td>\n",
              "      <td>Married-civ-spouse</td>\n",
              "      <td>Wife</td>\n",
              "      <td>Prof-specialty</td>\n",
              "      <td>Female</td>\n",
              "      <td>Cuba</td>\n",
              "      <td>&lt;=50K</td>\n",
              "    </tr>\n",
              "  </tbody>\n",
              "</table>\n",
              "</div>"
            ],
            "text/plain": [
              "      age          workclass   education  ...      sex  native-country  income\n",
              "0  Faixa3          State-gov   Bachelors  ...     Male   United-States   <=50K\n",
              "1  Faixa4   Self-emp-not-inc   Bachelors  ...     Male   United-States   <=50K\n",
              "2  Faixa3            Private     HS-grad  ...     Male   United-States   <=50K\n",
              "3  Faixa4            Private        11th  ...     Male   United-States   <=50K\n",
              "4  Faixa3            Private   Bachelors  ...   Female            Cuba   <=50K\n",
              "\n",
              "[5 rows x 9 columns]"
            ]
          },
          "metadata": {
            "tags": []
          },
          "execution_count": 63
        }
      ]
    },
    {
      "cell_type": "code",
      "metadata": {
        "colab": {
          "base_uri": "https://localhost:8080/"
        },
        "id": "27B-T8SoE0BK",
        "outputId": "a0109b6c-500a-4180-d786-456e2dbb5378"
      },
      "source": [
        "dataset.shape"
      ],
      "execution_count": 65,
      "outputs": [
        {
          "output_type": "execute_result",
          "data": {
            "text/plain": [
              "(32561, 15)"
            ]
          },
          "metadata": {
            "tags": []
          },
          "execution_count": 65
        }
      ]
    },
    {
      "cell_type": "code",
      "metadata": {
        "colab": {
          "base_uri": "https://localhost:8080/"
        },
        "id": "a_k9_STvFicz",
        "outputId": "10c0c8f6-4dee-4e54-8cf6-2275ecfb38a8"
      },
      "source": [
        "dataset_apriori = dataset_apriori.sample(n =1000)\r\n",
        "dataset_apriori.shape"
      ],
      "execution_count": 67,
      "outputs": [
        {
          "output_type": "execute_result",
          "data": {
            "text/plain": [
              "(1000, 9)"
            ]
          },
          "metadata": {
            "tags": []
          },
          "execution_count": 67
        }
      ]
    },
    {
      "cell_type": "code",
      "metadata": {
        "id": "Oa7pVWBzFz7a"
      },
      "source": [
        "transacoes = []\r\n",
        "for i in range(dataset_apriori.shape[0]):\r\n",
        "  transacoes.append([str(dataset_apriori.values[i, j]) for j in range(dataset_apriori.shape[1])])"
      ],
      "execution_count": 70,
      "outputs": []
    },
    {
      "cell_type": "code",
      "metadata": {
        "colab": {
          "base_uri": "https://localhost:8080/"
        },
        "id": "puDEBfw7F-9B",
        "outputId": "f9d2d1f5-9d60-4899-aad5-60613ad0d165"
      },
      "source": [
        "len (transacoes)"
      ],
      "execution_count": 71,
      "outputs": [
        {
          "output_type": "execute_result",
          "data": {
            "text/plain": [
              "1000"
            ]
          },
          "metadata": {
            "tags": []
          },
          "execution_count": 71
        }
      ]
    },
    {
      "cell_type": "code",
      "metadata": {
        "colab": {
          "base_uri": "https://localhost:8080/"
        },
        "id": "ztrFb8EaGJRC",
        "outputId": "ffb36c84-b419-480f-dfa1-5379092cd490"
      },
      "source": [
        "transacoes[:2]"
      ],
      "execution_count": 72,
      "outputs": [
        {
          "output_type": "execute_result",
          "data": {
            "text/plain": [
              "[['Faixa3',\n",
              "  ' Self-emp-not-inc',\n",
              "  ' Some-college',\n",
              "  ' Married-civ-spouse',\n",
              "  ' Husband',\n",
              "  ' Exec-managerial',\n",
              "  ' Male',\n",
              "  ' United-States',\n",
              "  ' <=50K'],\n",
              " ['Faixa3',\n",
              "  ' Private',\n",
              "  ' HS-grad',\n",
              "  ' Married-civ-spouse',\n",
              "  ' Wife',\n",
              "  ' Craft-repair',\n",
              "  ' Female',\n",
              "  ' United-States',\n",
              "  ' <=50K']]"
            ]
          },
          "metadata": {
            "tags": []
          },
          "execution_count": 72
        }
      ]
    },
    {
      "cell_type": "code",
      "metadata": {
        "colab": {
          "base_uri": "https://localhost:8080/"
        },
        "id": "wjPF8GzuGNIK",
        "outputId": "2e3e6dcb-6cbd-4bba-9c0f-be8866648e7c"
      },
      "source": [
        "!pip install apyori"
      ],
      "execution_count": 73,
      "outputs": [
        {
          "output_type": "stream",
          "text": [
            "Collecting apyori\n",
            "  Downloading https://files.pythonhosted.org/packages/5e/62/5ffde5c473ea4b033490617ec5caa80d59804875ad3c3c57c0976533a21a/apyori-1.1.2.tar.gz\n",
            "Building wheels for collected packages: apyori\n",
            "  Building wheel for apyori (setup.py) ... \u001b[?25l\u001b[?25hdone\n",
            "  Created wheel for apyori: filename=apyori-1.1.2-cp36-none-any.whl size=5977 sha256=0b069ec71c72d2112e223cddfff9ec110251c61bc76423db734f7fcf3c1cfdc8\n",
            "  Stored in directory: /root/.cache/pip/wheels/5d/92/bb/474bbadbc8c0062b9eb168f69982a0443263f8ab1711a8cad0\n",
            "Successfully built apyori\n",
            "Installing collected packages: apyori\n",
            "Successfully installed apyori-1.1.2\n"
          ],
          "name": "stdout"
        }
      ]
    },
    {
      "cell_type": "code",
      "metadata": {
        "id": "8a9U-7CAGTQa"
      },
      "source": [
        "from apyori import apriori"
      ],
      "execution_count": 74,
      "outputs": []
    },
    {
      "cell_type": "code",
      "metadata": {
        "id": "3ynllQYLGa6D"
      },
      "source": [
        "regras = apriori(transacoes, min_support = 0.3, min_confidence = 0.2)\r\n",
        "resultados = list(regras)"
      ],
      "execution_count": 75,
      "outputs": []
    },
    {
      "cell_type": "code",
      "metadata": {
        "colab": {
          "base_uri": "https://localhost:8080/"
        },
        "id": "poQdsbUNGfcF",
        "outputId": "84b02966-0020-4d02-c774-be81ed277f81"
      },
      "source": [
        "len(resultados)"
      ],
      "execution_count": 76,
      "outputs": [
        {
          "output_type": "execute_result",
          "data": {
            "text/plain": [
              "38"
            ]
          },
          "metadata": {
            "tags": []
          },
          "execution_count": 76
        }
      ]
    },
    {
      "cell_type": "code",
      "metadata": {
        "colab": {
          "base_uri": "https://localhost:8080/"
        },
        "id": "5OkBQldOGhwi",
        "outputId": "30e7af9b-3ae8-41a9-bde8-8968121156e6"
      },
      "source": [
        "resultados"
      ],
      "execution_count": 77,
      "outputs": [
        {
          "output_type": "execute_result",
          "data": {
            "text/plain": [
              "[RelationRecord(items=frozenset({' <=50K'}), support=0.763, ordered_statistics=[OrderedStatistic(items_base=frozenset(), items_add=frozenset({' <=50K'}), confidence=0.763, lift=1.0)]),\n",
              " RelationRecord(items=frozenset({' Female'}), support=0.317, ordered_statistics=[OrderedStatistic(items_base=frozenset(), items_add=frozenset({' Female'}), confidence=0.317, lift=1.0)]),\n",
              " RelationRecord(items=frozenset({' HS-grad'}), support=0.325, ordered_statistics=[OrderedStatistic(items_base=frozenset(), items_add=frozenset({' HS-grad'}), confidence=0.325, lift=1.0)]),\n",
              " RelationRecord(items=frozenset({' Husband'}), support=0.402, ordered_statistics=[OrderedStatistic(items_base=frozenset(), items_add=frozenset({' Husband'}), confidence=0.402, lift=1.0)]),\n",
              " RelationRecord(items=frozenset({' Male'}), support=0.683, ordered_statistics=[OrderedStatistic(items_base=frozenset(), items_add=frozenset({' Male'}), confidence=0.683, lift=1.0)]),\n",
              " RelationRecord(items=frozenset({' Married-civ-spouse'}), support=0.452, ordered_statistics=[OrderedStatistic(items_base=frozenset(), items_add=frozenset({' Married-civ-spouse'}), confidence=0.452, lift=1.0)]),\n",
              " RelationRecord(items=frozenset({' Never-married'}), support=0.346, ordered_statistics=[OrderedStatistic(items_base=frozenset(), items_add=frozenset({' Never-married'}), confidence=0.346, lift=1.0)]),\n",
              " RelationRecord(items=frozenset({' Private'}), support=0.704, ordered_statistics=[OrderedStatistic(items_base=frozenset(), items_add=frozenset({' Private'}), confidence=0.704, lift=1.0)]),\n",
              " RelationRecord(items=frozenset({' United-States'}), support=0.893, ordered_statistics=[OrderedStatistic(items_base=frozenset(), items_add=frozenset({' United-States'}), confidence=0.893, lift=1.0)]),\n",
              " RelationRecord(items=frozenset({'Faixa3'}), support=0.392, ordered_statistics=[OrderedStatistic(items_base=frozenset(), items_add=frozenset({'Faixa3'}), confidence=0.392, lift=1.0)]),\n",
              " RelationRecord(items=frozenset({'Faixa4'}), support=0.332, ordered_statistics=[OrderedStatistic(items_base=frozenset(), items_add=frozenset({'Faixa4'}), confidence=0.332, lift=1.0)]),\n",
              " RelationRecord(items=frozenset({' <=50K', ' Male'}), support=0.482, ordered_statistics=[OrderedStatistic(items_base=frozenset(), items_add=frozenset({' <=50K', ' Male'}), confidence=0.482, lift=1.0), OrderedStatistic(items_base=frozenset({' <=50K'}), items_add=frozenset({' Male'}), confidence=0.6317169069462647, lift=0.9249149442844284), OrderedStatistic(items_base=frozenset({' Male'}), items_add=frozenset({' <=50K'}), confidence=0.705710102489019, lift=0.9249149442844286)]),\n",
              " RelationRecord(items=frozenset({' Never-married', ' <=50K'}), support=0.335, ordered_statistics=[OrderedStatistic(items_base=frozenset(), items_add=frozenset({' Never-married', ' <=50K'}), confidence=0.335, lift=1.0), OrderedStatistic(items_base=frozenset({' <=50K'}), items_add=frozenset({' Never-married'}), confidence=0.43905635648754915, lift=1.2689490071894485), OrderedStatistic(items_base=frozenset({' Never-married'}), items_add=frozenset({' <=50K'}), confidence=0.9682080924855493, lift=1.2689490071894487)]),\n",
              " RelationRecord(items=frozenset({' <=50K', ' Private'}), support=0.551, ordered_statistics=[OrderedStatistic(items_base=frozenset(), items_add=frozenset({' <=50K', ' Private'}), confidence=0.551, lift=1.0), OrderedStatistic(items_base=frozenset({' <=50K'}), items_add=frozenset({' Private'}), confidence=0.7221494102228048, lift=1.0257804122483023), OrderedStatistic(items_base=frozenset({' Private'}), items_add=frozenset({' <=50K'}), confidence=0.7826704545454547, lift=1.0257804122483023)]),\n",
              " RelationRecord(items=frozenset({' <=50K', ' United-States'}), support=0.679, ordered_statistics=[OrderedStatistic(items_base=frozenset(), items_add=frozenset({' <=50K', ' United-States'}), confidence=0.679, lift=1.0), OrderedStatistic(items_base=frozenset({' <=50K'}), items_add=frozenset({' United-States'}), confidence=0.8899082568807339, lift=0.9965378016581566), OrderedStatistic(items_base=frozenset({' United-States'}), items_add=frozenset({' <=50K'}), confidence=0.7603583426651737, lift=0.9965378016581569)]),\n",
              " RelationRecord(items=frozenset({' <=50K', 'Faixa3'}), support=0.309, ordered_statistics=[OrderedStatistic(items_base=frozenset(), items_add=frozenset({' <=50K', 'Faixa3'}), confidence=0.309, lift=1.0), OrderedStatistic(items_base=frozenset({' <=50K'}), items_add=frozenset({'Faixa3'}), confidence=0.40498034076015726, lift=1.0331131141840746), OrderedStatistic(items_base=frozenset({'Faixa3'}), items_add=frozenset({' <=50K'}), confidence=0.7882653061224489, lift=1.0331131141840746)]),\n",
              " RelationRecord(items=frozenset({' United-States', ' HS-grad'}), support=0.301, ordered_statistics=[OrderedStatistic(items_base=frozenset(), items_add=frozenset({' United-States', ' HS-grad'}), confidence=0.301, lift=1.0), OrderedStatistic(items_base=frozenset({' HS-grad'}), items_add=frozenset({' United-States'}), confidence=0.9261538461538461, lift=1.0371263674735118), OrderedStatistic(items_base=frozenset({' United-States'}), items_add=frozenset({' HS-grad'}), confidence=0.33706606942889134, lift=1.0371263674735118)]),\n",
              " RelationRecord(items=frozenset({' Husband', ' Male'}), support=0.402, ordered_statistics=[OrderedStatistic(items_base=frozenset(), items_add=frozenset({' Husband', ' Male'}), confidence=0.402, lift=1.0), OrderedStatistic(items_base=frozenset({' Husband'}), items_add=frozenset({' Male'}), confidence=1.0, lift=1.4641288433382136), OrderedStatistic(items_base=frozenset({' Male'}), items_add=frozenset({' Husband'}), confidence=0.5885797950219619, lift=1.4641288433382136)]),\n",
              " RelationRecord(items=frozenset({' Husband', ' Married-civ-spouse'}), support=0.402, ordered_statistics=[OrderedStatistic(items_base=frozenset(), items_add=frozenset({' Husband', ' Married-civ-spouse'}), confidence=0.402, lift=1.0), OrderedStatistic(items_base=frozenset({' Husband'}), items_add=frozenset({' Married-civ-spouse'}), confidence=1.0, lift=2.2123893805309733), OrderedStatistic(items_base=frozenset({' Married-civ-spouse'}), items_add=frozenset({' Husband'}), confidence=0.8893805309734514, lift=2.2123893805309733)]),\n",
              " RelationRecord(items=frozenset({' Husband', ' United-States'}), support=0.364, ordered_statistics=[OrderedStatistic(items_base=frozenset(), items_add=frozenset({' Husband', ' United-States'}), confidence=0.364, lift=1.0), OrderedStatistic(items_base=frozenset({' Husband'}), items_add=frozenset({' United-States'}), confidence=0.9054726368159203, lift=1.0139671184948715), OrderedStatistic(items_base=frozenset({' United-States'}), items_add=frozenset({' Husband'}), confidence=0.4076147816349384, lift=1.0139671184948715)]),\n",
              " RelationRecord(items=frozenset({' Male', ' Married-civ-spouse'}), support=0.403, ordered_statistics=[OrderedStatistic(items_base=frozenset(), items_add=frozenset({' Male', ' Married-civ-spouse'}), confidence=0.403, lift=1.0), OrderedStatistic(items_base=frozenset({' Male'}), items_add=frozenset({' Married-civ-spouse'}), confidence=0.5900439238653001, lift=1.3054069112064162), OrderedStatistic(items_base=frozenset({' Married-civ-spouse'}), items_add=frozenset({' Male'}), confidence=0.8915929203539823, lift=1.3054069112064162)]),\n",
              " RelationRecord(items=frozenset({' Private', ' Male'}), support=0.476, ordered_statistics=[OrderedStatistic(items_base=frozenset(), items_add=frozenset({' Private', ' Male'}), confidence=0.476, lift=1.0), OrderedStatistic(items_base=frozenset({' Male'}), items_add=frozenset({' Private'}), confidence=0.6969253294289897, lift=0.9899507520298149), OrderedStatistic(items_base=frozenset({' Private'}), items_add=frozenset({' Male'}), confidence=0.6761363636363636, lift=0.989950752029815)]),\n",
              " RelationRecord(items=frozenset({' United-States', ' Male'}), support=0.613, ordered_statistics=[OrderedStatistic(items_base=frozenset(), items_add=frozenset({' United-States', ' Male'}), confidence=0.613, lift=1.0), OrderedStatistic(items_base=frozenset({' Male'}), items_add=frozenset({' United-States'}), confidence=0.897510980966325, lift=1.005051490443813), OrderedStatistic(items_base=frozenset({' United-States'}), items_add=frozenset({' Male'}), confidence=0.6864501679731243, lift=1.005051490443813)]),\n",
              " RelationRecord(items=frozenset({' Private', ' Married-civ-spouse'}), support=0.304, ordered_statistics=[OrderedStatistic(items_base=frozenset(), items_add=frozenset({' Private', ' Married-civ-spouse'}), confidence=0.304, lift=1.0), OrderedStatistic(items_base=frozenset({' Married-civ-spouse'}), items_add=frozenset({' Private'}), confidence=0.6725663716814159, lift=0.9553499597747385), OrderedStatistic(items_base=frozenset({' Private'}), items_add=frozenset({' Married-civ-spouse'}), confidence=0.4318181818181818, lift=0.9553499597747385)]),\n",
              " RelationRecord(items=frozenset({' United-States', ' Married-civ-spouse'}), support=0.41, ordered_statistics=[OrderedStatistic(items_base=frozenset(), items_add=frozenset({' United-States', ' Married-civ-spouse'}), confidence=0.41, lift=1.0), OrderedStatistic(items_base=frozenset({' Married-civ-spouse'}), items_add=frozenset({' United-States'}), confidence=0.9070796460176991, lift=1.0157666808708836), OrderedStatistic(items_base=frozenset({' United-States'}), items_add=frozenset({' Married-civ-spouse'}), confidence=0.4591265397536394, lift=1.0157666808708836)]),\n",
              " RelationRecord(items=frozenset({' Never-married', ' United-States'}), support=0.303, ordered_statistics=[OrderedStatistic(items_base=frozenset(), items_add=frozenset({' Never-married', ' United-States'}), confidence=0.303, lift=1.0), OrderedStatistic(items_base=frozenset({' Never-married'}), items_add=frozenset({' United-States'}), confidence=0.8757225433526012, lift=0.9806523441798446), OrderedStatistic(items_base=frozenset({' United-States'}), items_add=frozenset({' Never-married'}), confidence=0.3393057110862262, lift=0.9806523441798446)]),\n",
              " RelationRecord(items=frozenset({' Private', ' United-States'}), support=0.627, ordered_statistics=[OrderedStatistic(items_base=frozenset(), items_add=frozenset({' Private', ' United-States'}), confidence=0.627, lift=1.0), OrderedStatistic(items_base=frozenset({' Private'}), items_add=frozenset({' United-States'}), confidence=0.890625, lift=0.9973404255319148), OrderedStatistic(items_base=frozenset({' United-States'}), items_add=frozenset({' Private'}), confidence=0.7021276595744681, lift=0.9973404255319149)]),\n",
              " RelationRecord(items=frozenset({' United-States', 'Faixa3'}), support=0.358, ordered_statistics=[OrderedStatistic(items_base=frozenset(), items_add=frozenset({' United-States', 'Faixa3'}), confidence=0.358, lift=1.0), OrderedStatistic(items_base=frozenset({' United-States'}), items_add=frozenset({'Faixa3'}), confidence=0.4008958566629339, lift=1.0226935118952396), OrderedStatistic(items_base=frozenset({'Faixa3'}), items_add=frozenset({' United-States'}), confidence=0.9132653061224489, lift=1.0226935118952396)]),\n",
              " RelationRecord(items=frozenset({' <=50K', ' Private', ' Male'}), support=0.346, ordered_statistics=[OrderedStatistic(items_base=frozenset(), items_add=frozenset({' <=50K', ' Male', ' Private'}), confidence=0.346, lift=1.0), OrderedStatistic(items_base=frozenset({' <=50K'}), items_add=frozenset({' Private', ' Male'}), confidence=0.4534731323722149, lift=0.9526746478407877), OrderedStatistic(items_base=frozenset({' Male'}), items_add=frozenset({' <=50K', ' Private'}), confidence=0.5065885797950219, lift=0.9193985114247221), OrderedStatistic(items_base=frozenset({' Private'}), items_add=frozenset({' <=50K', ' Male'}), confidence=0.4914772727272727, lift=1.0196623915503584), OrderedStatistic(items_base=frozenset({' <=50K', ' Male'}), items_add=frozenset({' Private'}), confidence=0.7178423236514523, lift=1.0196623915503584), OrderedStatistic(items_base=frozenset({' <=50K', ' Private'}), items_add=frozenset({' Male'}), confidence=0.6279491833030852, lift=0.9193985114247221), OrderedStatistic(items_base=frozenset({' Private', ' Male'}), items_add=frozenset({' <=50K'}), confidence=0.726890756302521, lift=0.9526746478407876)]),\n",
              " RelationRecord(items=frozenset({' <=50K', ' United-States', ' Male'}), support=0.43, ordered_statistics=[OrderedStatistic(items_base=frozenset(), items_add=frozenset({' <=50K', ' United-States', ' Male'}), confidence=0.43, lift=1.0), OrderedStatistic(items_base=frozenset({' <=50K'}), items_add=frozenset({' United-States', ' Male'}), confidence=0.5635648754914809, lift=0.9193554249453196), OrderedStatistic(items_base=frozenset({' Male'}), items_add=frozenset({' <=50K', ' United-States'}), confidence=0.6295754026354319, lift=0.9272097240580734), OrderedStatistic(items_base=frozenset({' United-States'}), items_add=frozenset({' <=50K', ' Male'}), confidence=0.48152295632698766, lift=0.9990102828360741), OrderedStatistic(items_base=frozenset({' <=50K', ' Male'}), items_add=frozenset({' United-States'}), confidence=0.8921161825726142, lift=0.9990102828360741), OrderedStatistic(items_base=frozenset({' <=50K', ' United-States'}), items_add=frozenset({' Male'}), confidence=0.6332842415316642, lift=0.9272097240580734), OrderedStatistic(items_base=frozenset({' United-States', ' Male'}), items_add=frozenset({' <=50K'}), confidence=0.7014681892332789, lift=0.9193554249453196)]),\n",
              " RelationRecord(items=frozenset({' <=50K', ' United-States', ' Private'}), support=0.486, ordered_statistics=[OrderedStatistic(items_base=frozenset(), items_add=frozenset({' <=50K', ' United-States', ' Private'}), confidence=0.486, lift=1.0), OrderedStatistic(items_base=frozenset({' <=50K'}), items_add=frozenset({' Private', ' United-States'}), confidence=0.636959370904325, lift=1.0158841641217304), OrderedStatistic(items_base=frozenset({' Private'}), items_add=frozenset({' <=50K', ' United-States'}), confidence=0.6903409090909091, lift=1.0167023697951532), OrderedStatistic(items_base=frozenset({' United-States'}), items_add=frozenset({' <=50K', ' Private'}), confidence=0.5442329227323628, lift=0.9877185530532899), OrderedStatistic(items_base=frozenset({' <=50K', ' Private'}), items_add=frozenset({' United-States'}), confidence=0.882032667876588, lift=0.9877185530532899), OrderedStatistic(items_base=frozenset({' <=50K', ' United-States'}), items_add=frozenset({' Private'}), confidence=0.7157584683357878, lift=1.0167023697951532), OrderedStatistic(items_base=frozenset({' Private', ' United-States'}), items_add=frozenset({' <=50K'}), confidence=0.7751196172248803, lift=1.0158841641217304)]),\n",
              " RelationRecord(items=frozenset({' Husband', ' Male', ' Married-civ-spouse'}), support=0.402, ordered_statistics=[OrderedStatistic(items_base=frozenset(), items_add=frozenset({' Husband', ' Male', ' Married-civ-spouse'}), confidence=0.402, lift=1.0), OrderedStatistic(items_base=frozenset({' Husband'}), items_add=frozenset({' Male', ' Married-civ-spouse'}), confidence=1.0, lift=2.4813895781637716), OrderedStatistic(items_base=frozenset({' Male'}), items_add=frozenset({' Husband', ' Married-civ-spouse'}), confidence=0.5885797950219619, lift=1.4641288433382136), OrderedStatistic(items_base=frozenset({' Married-civ-spouse'}), items_add=frozenset({' Husband', ' Male'}), confidence=0.8893805309734514, lift=2.2123893805309733), OrderedStatistic(items_base=frozenset({' Husband', ' Male'}), items_add=frozenset({' Married-civ-spouse'}), confidence=1.0, lift=2.2123893805309733), OrderedStatistic(items_base=frozenset({' Husband', ' Married-civ-spouse'}), items_add=frozenset({' Male'}), confidence=1.0, lift=1.4641288433382136), OrderedStatistic(items_base=frozenset({' Male', ' Married-civ-spouse'}), items_add=frozenset({' Husband'}), confidence=0.9975186104218362, lift=2.4813895781637716)]),\n",
              " RelationRecord(items=frozenset({' Husband', ' United-States', ' Male'}), support=0.364, ordered_statistics=[OrderedStatistic(items_base=frozenset(), items_add=frozenset({' Husband', ' United-States', ' Male'}), confidence=0.364, lift=1.0), OrderedStatistic(items_base=frozenset({' Husband'}), items_add=frozenset({' United-States', ' Male'}), confidence=0.9054726368159203, lift=1.4771168626687117), OrderedStatistic(items_base=frozenset({' Male'}), items_add=frozenset({' Husband', ' United-States'}), confidence=0.5329428989751097, lift=1.4641288433382136), OrderedStatistic(items_base=frozenset({' United-States'}), items_add=frozenset({' Husband', ' Male'}), confidence=0.4076147816349384, lift=1.0139671184948715), OrderedStatistic(items_base=frozenset({' Husband', ' Male'}), items_add=frozenset({' United-States'}), confidence=0.9054726368159203, lift=1.0139671184948715), OrderedStatistic(items_base=frozenset({' Husband', ' United-States'}), items_add=frozenset({' Male'}), confidence=1.0, lift=1.4641288433382136), OrderedStatistic(items_base=frozenset({' United-States', ' Male'}), items_add=frozenset({' Husband'}), confidence=0.5938009787928222, lift=1.477116862668712)]),\n",
              " RelationRecord(items=frozenset({' Husband', ' United-States', ' Married-civ-spouse'}), support=0.364, ordered_statistics=[OrderedStatistic(items_base=frozenset(), items_add=frozenset({' Husband', ' United-States', ' Married-civ-spouse'}), confidence=0.364, lift=1.0), OrderedStatistic(items_base=frozenset({' Husband'}), items_add=frozenset({' United-States', ' Married-civ-spouse'}), confidence=0.9054726368159203, lift=2.2084698458924885), OrderedStatistic(items_base=frozenset({' Married-civ-spouse'}), items_add=frozenset({' Husband', ' United-States'}), confidence=0.8053097345132743, lift=2.2123893805309733), OrderedStatistic(items_base=frozenset({' United-States'}), items_add=frozenset({' Husband', ' Married-civ-spouse'}), confidence=0.4076147816349384, lift=1.0139671184948715), OrderedStatistic(items_base=frozenset({' Husband', ' Married-civ-spouse'}), items_add=frozenset({' United-States'}), confidence=0.9054726368159203, lift=1.0139671184948715), OrderedStatistic(items_base=frozenset({' Husband', ' United-States'}), items_add=frozenset({' Married-civ-spouse'}), confidence=1.0, lift=2.2123893805309733), OrderedStatistic(items_base=frozenset({' United-States', ' Married-civ-spouse'}), items_add=frozenset({' Husband'}), confidence=0.8878048780487805, lift=2.2084698458924885)]),\n",
              " RelationRecord(items=frozenset({' United-States', ' Male', ' Married-civ-spouse'}), support=0.365, ordered_statistics=[OrderedStatistic(items_base=frozenset(), items_add=frozenset({' United-States', ' Male', ' Married-civ-spouse'}), confidence=0.365, lift=1.0), OrderedStatistic(items_base=frozenset({' Male'}), items_add=frozenset({' United-States', ' Married-civ-spouse'}), confidence=0.534407027818448, lift=1.3034317751669464), OrderedStatistic(items_base=frozenset({' Married-civ-spouse'}), items_add=frozenset({' United-States', ' Male'}), confidence=0.8075221238938053, lift=1.3173280977060446), OrderedStatistic(items_base=frozenset({' United-States'}), items_add=frozenset({' Male', ' Married-civ-spouse'}), confidence=0.4087346024636058, lift=1.0142297827881037), OrderedStatistic(items_base=frozenset({' Male', ' Married-civ-spouse'}), items_add=frozenset({' United-States'}), confidence=0.9057071960297766, lift=1.0142297827881037), OrderedStatistic(items_base=frozenset({' United-States', ' Male'}), items_add=frozenset({' Married-civ-spouse'}), confidence=0.5954323001631321, lift=1.3173280977060444), OrderedStatistic(items_base=frozenset({' United-States', ' Married-civ-spouse'}), items_add=frozenset({' Male'}), confidence=0.8902439024390244, lift=1.3034317751669464)]),\n",
              " RelationRecord(items=frozenset({' Private', ' United-States', ' Male'}), support=0.425, ordered_statistics=[OrderedStatistic(items_base=frozenset(), items_add=frozenset({' Private', ' United-States', ' Male'}), confidence=0.425, lift=1.0), OrderedStatistic(items_base=frozenset({' Male'}), items_add=frozenset({' Private', ' United-States'}), confidence=0.6222547584187408, lift=0.992431831608837), OrderedStatistic(items_base=frozenset({' Private'}), items_add=frozenset({' United-States', ' Male'}), confidence=0.6036931818181819, lift=0.9848175886104109), OrderedStatistic(items_base=frozenset({' United-States'}), items_add=frozenset({' Private', ' Male'}), confidence=0.4759238521836506, lift=0.9998400255959046), OrderedStatistic(items_base=frozenset({' Private', ' Male'}), items_add=frozenset({' United-States'}), confidence=0.8928571428571429, lift=0.9998400255959047), OrderedStatistic(items_base=frozenset({' United-States', ' Male'}), items_add=frozenset({' Private'}), confidence=0.6933115823817292, lift=0.9848175886104108), OrderedStatistic(items_base=frozenset({' Private', ' United-States'}), items_add=frozenset({' Male'}), confidence=0.6778309409888357, lift=0.992431831608837)]),\n",
              " RelationRecord(items=frozenset({' United-States', ' <=50K', ' Private', ' Male'}), support=0.305, ordered_statistics=[OrderedStatistic(items_base=frozenset(), items_add=frozenset({' United-States', ' <=50K', ' Private', ' Male'}), confidence=0.305, lift=1.0), OrderedStatistic(items_base=frozenset({' <=50K'}), items_add=frozenset({' Private', ' United-States', ' Male'}), confidence=0.399737876802097, lift=0.9405597101225812), OrderedStatistic(items_base=frozenset({' Male'}), items_add=frozenset({' <=50K', ' United-States', ' Private'}), confidence=0.4465592972181551, lift=0.9188462905723357), OrderedStatistic(items_base=frozenset({' Private'}), items_add=frozenset({' <=50K', ' United-States', ' Male'}), confidence=0.43323863636363635, lift=1.007531712473573), OrderedStatistic(items_base=frozenset({' United-States'}), items_add=frozenset({' <=50K', ' Male', ' Private'}), confidence=0.341545352743561, lift=0.9871252969467083), OrderedStatistic(items_base=frozenset({' <=50K', ' Male'}), items_add=frozenset({' Private', ' United-States'}), confidence=0.6327800829875518, lift=1.00921863315399), OrderedStatistic(items_base=frozenset({' <=50K', ' Private'}), items_add=frozenset({' United-States', ' Male'}), confidence=0.5535390199637023, lift=0.9030000325672142), OrderedStatistic(items_base=frozenset({' <=50K', ' United-States'}), items_add=frozenset({' Private', ' Male'}), confidence=0.44918998527245946, lift=0.9436764396480242), OrderedStatistic(items_base=frozenset({' Private', ' Male'}), items_add=frozenset({' <=50K', ' United-States'}), confidence=0.6407563025210085, lift=0.9436764396480242), OrderedStatistic(items_base=frozenset({' United-States', ' Male'}), items_add=frozenset({' <=50K', ' Private'}), confidence=0.49755301794453505, lift=0.9030000325672142), OrderedStatistic(items_base=frozenset({' Private', ' United-States'}), items_add=frozenset({' <=50K', ' Male'}), confidence=0.4864433811802233, lift=1.0092186331539903), OrderedStatistic(items_base=frozenset({' <=50K', ' Private', ' Male'}), items_add=frozenset({' United-States'}), confidence=0.8815028901734104, lift=0.9871252969467083), OrderedStatistic(items_base=frozenset({' <=50K', ' United-States', ' Male'}), items_add=frozenset({' Private'}), confidence=0.7093023255813954, lift=1.007531712473573), OrderedStatistic(items_base=frozenset({' <=50K', ' United-States', ' Private'}), items_add=frozenset({' Male'}), confidence=0.6275720164609053, lift=0.9188462905723357), OrderedStatistic(items_base=frozenset({' Private', ' United-States', ' Male'}), items_add=frozenset({' <=50K'}), confidence=0.7176470588235294, lift=0.9405597101225811)]),\n",
              " RelationRecord(items=frozenset({' Husband', ' United-States', ' Male', ' Married-civ-spouse'}), support=0.364, ordered_statistics=[OrderedStatistic(items_base=frozenset(), items_add=frozenset({' Husband', ' United-States', ' Male', ' Married-civ-spouse'}), confidence=0.364, lift=1.0), OrderedStatistic(items_base=frozenset({' Husband'}), items_add=frozenset({' United-States', ' Male', ' Married-civ-spouse'}), confidence=0.9054726368159203, lift=2.4807469501806034), OrderedStatistic(items_base=frozenset({' Male'}), items_add=frozenset({' Husband', ' United-States', ' Married-civ-spouse'}), confidence=0.5329428989751097, lift=1.4641288433382136), OrderedStatistic(items_base=frozenset({' Married-civ-spouse'}), items_add=frozenset({' Husband', ' United-States', ' Male'}), confidence=0.8053097345132743, lift=2.2123893805309733), OrderedStatistic(items_base=frozenset({' United-States'}), items_add=frozenset({' Husband', ' Male', ' Married-civ-spouse'}), confidence=0.4076147816349384, lift=1.0139671184948715), OrderedStatistic(items_base=frozenset({' Husband', ' Male'}), items_add=frozenset({' United-States', ' Married-civ-spouse'}), confidence=0.9054726368159203, lift=2.2084698458924885), OrderedStatistic(items_base=frozenset({' Husband', ' Married-civ-spouse'}), items_add=frozenset({' United-States', ' Male'}), confidence=0.9054726368159203, lift=1.4771168626687117), OrderedStatistic(items_base=frozenset({' Husband', ' United-States'}), items_add=frozenset({' Male', ' Married-civ-spouse'}), confidence=1.0, lift=2.4813895781637716), OrderedStatistic(items_base=frozenset({' Male', ' Married-civ-spouse'}), items_add=frozenset({' Husband', ' United-States'}), confidence=0.9032258064516129, lift=2.4813895781637716), OrderedStatistic(items_base=frozenset({' United-States', ' Male'}), items_add=frozenset({' Husband', ' Married-civ-spouse'}), confidence=0.5938009787928222, lift=1.477116862668712), OrderedStatistic(items_base=frozenset({' United-States', ' Married-civ-spouse'}), items_add=frozenset({' Husband', ' Male'}), confidence=0.8878048780487805, lift=2.2084698458924885), OrderedStatistic(items_base=frozenset({' Husband', ' Male', ' Married-civ-spouse'}), items_add=frozenset({' United-States'}), confidence=0.9054726368159203, lift=1.0139671184948715), OrderedStatistic(items_base=frozenset({' Husband', ' United-States', ' Male'}), items_add=frozenset({' Married-civ-spouse'}), confidence=1.0, lift=2.2123893805309733), OrderedStatistic(items_base=frozenset({' Husband', ' United-States', ' Married-civ-spouse'}), items_add=frozenset({' Male'}), confidence=1.0, lift=1.4641288433382136), OrderedStatistic(items_base=frozenset({' United-States', ' Male', ' Married-civ-spouse'}), items_add=frozenset({' Husband'}), confidence=0.9972602739726028, lift=2.480746950180604)])]"
            ]
          },
          "metadata": {
            "tags": []
          },
          "execution_count": 77
        }
      ]
    },
    {
      "cell_type": "code",
      "metadata": {
        "colab": {
          "base_uri": "https://localhost:8080/"
        },
        "id": "eTWPTCWPGi_C",
        "outputId": "7ea31ec4-9f3d-438b-992b-dd90df7d3877"
      },
      "source": [
        "resultados[12]"
      ],
      "execution_count": 78,
      "outputs": [
        {
          "output_type": "execute_result",
          "data": {
            "text/plain": [
              "RelationRecord(items=frozenset({' Never-married', ' <=50K'}), support=0.335, ordered_statistics=[OrderedStatistic(items_base=frozenset(), items_add=frozenset({' Never-married', ' <=50K'}), confidence=0.335, lift=1.0), OrderedStatistic(items_base=frozenset({' <=50K'}), items_add=frozenset({' Never-married'}), confidence=0.43905635648754915, lift=1.2689490071894485), OrderedStatistic(items_base=frozenset({' Never-married'}), items_add=frozenset({' <=50K'}), confidence=0.9682080924855493, lift=1.2689490071894487)])"
            ]
          },
          "metadata": {
            "tags": []
          },
          "execution_count": 78
        }
      ]
    }
  ]
}